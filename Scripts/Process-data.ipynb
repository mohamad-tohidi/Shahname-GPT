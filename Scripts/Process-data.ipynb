{
 "cells": [
  {
   "cell_type": "code",
   "execution_count": 24,
   "metadata": {},
   "outputs": [],
   "source": [
    "import re\n",
    "from docx import Document"
   ]
  },
  {
   "cell_type": "markdown",
   "metadata": {},
   "source": [
    "# Load"
   ]
  },
  {
   "cell_type": "code",
   "execution_count": 17,
   "metadata": {},
   "outputs": [],
   "source": [
    "\n",
    "\n",
    "def read_docx(file_path):\n",
    "    doc = Document(file_path)\n",
    "    full_text = []\n",
    "    for paragraph in doc.paragraphs:\n",
    "        full_text.append(paragraph.text)\n",
    "    return '\\n'.join(full_text)\n",
    "\n",
    "# Replace 'your_file.docx' with the path to your DOCX file\n",
    "file_path = 'E:\\LLM001\\ShahnameBS001\\Dataset\\Shahname-Ferdowsi.docx'\n",
    "text = read_docx(file_path)\n",
    "\n"
   ]
  },
  {
   "cell_type": "code",
   "execution_count": 4,
   "metadata": {},
   "outputs": [
    {
     "data": {
      "text/plain": [
       "3867081"
      ]
     },
     "execution_count": 4,
     "metadata": {},
     "output_type": "execute_result"
    }
   ],
   "source": [
    "len(text)"
   ]
  },
  {
   "cell_type": "code",
   "execution_count": 18,
   "metadata": {},
   "outputs": [
    {
     "name": "stdout",
     "output_type": "stream",
     "text": [
      "\n",
      "\n",
      "         بنام خداوند جان و خرد        \t  \t  كزين برتر انديشه بر نگذرد\n",
      "         خداوند نام و خداوند جاى         \t\t   خداوند روزى‏ده رهنماى‏\n",
      "         خداوند كيوان و گردان سپهر         \t   فروزنده ماه و ناهيد و مهر\n",
      "         ز نام و نشان و گمان برترست     \t  \t     نگارنده برشده پيكرست‏\n",
      "         به بينندگان آفريننده را        \t  \t  نبينى مرنجان دو بيننده را\n",
      "         نيابد بدو نيز انديشه راه         \t\t   كه او برتر از نام و از جايگاه‏\n",
      "         سخن هر چه زين گوهران بگذرد    \t        نيابد بدو راه جان و خرد\n",
      "         خرد گر سخن برگزيند همى          \t  همان را گزيند كه بيند همى‏\n",
      "         ستودن نداند كس او را چو هست        \t    ميان بندگى را ببايدت بست‏\n",
      "         خرد را و جان را همى سنجد اوى            در انديشۀ سخته كى گنجد اوى‏\n",
      "         بدين آلت راى و جان و زبان        \t \t   ستود آفريننده را كى توان‏\n",
      "         به هستيش بايد كه خستو شوى        \t    ز گفتار بى‏كار يك سو شوى‏\n",
      "         پرستنده باشى و جوينده راه          \t  بژرفى بفرمانش كردن نگاه‏\n",
      "         توانا بود هر كه دانا بود          \t\t  ز دا\n"
     ]
    }
   ],
   "source": [
    "print(text[:1000])"
   ]
  },
  {
   "cell_type": "markdown",
   "metadata": {},
   "source": [
    "# Process"
   ]
  },
  {
   "cell_type": "code",
   "execution_count": 25,
   "metadata": {},
   "outputs": [],
   "source": [
    "\n",
    "# Define the pattern to match the sequence of changing numbers\n",
    "pattern = r'شاهنامه، ص: (1[0-4][0-9]{2}|1500|[1-9][0-9]{0,2}|[0-9])'\n",
    "\n",
    "# Replace the matched patterns with an empty string\n",
    "processed_text = re.sub(pattern, '', text)\n",
    "\n",
    "# print(processed_text)\n"
   ]
  },
  {
   "cell_type": "code",
   "execution_count": 30,
   "metadata": {},
   "outputs": [],
   "source": [
    "# Define the pattern to match Persian alphabets\n",
    "pattern = r'[^آ-ی\\s]'\n",
    "\n",
    "# Replace everything except Persian alphabets with an empty string\n",
    "processed_text = re.sub(pattern, '', processed_text)\n",
    "\n",
    "# print(processed_text)"
   ]
  },
  {
   "cell_type": "code",
   "execution_count": 31,
   "metadata": {},
   "outputs": [],
   "source": [
    "import re\n",
    "\n",
    "special_token = \"<q>\"\n",
    "\n",
    "processed_poem = re.sub(r'(\\s{4,})', special_token, processed_text)\n",
    "\n",
    "#print(processed_poem)\n"
   ]
  },
  {
   "cell_type": "code",
   "execution_count": 32,
   "metadata": {},
   "outputs": [
    {
     "data": {
      "text/plain": [
       "'د را به از راه داد<q>خرد رهنماى و خرد دلگشاى<q>خرد دست گيرد بهر دو سراى<q>ازو شادمانى و زويت غميست<q>و زويت فزونى و زويت كميست<q>خرد تيره و مرد روشنروان<q>نباشد همى شادمان يك زمان<q>چه گفت آن خردمند مرد خرد<q>كه دانا ز گفتار او بر خورد<q>كسى كو خرد را ندارد ز پيش<q>دلش گردد از كرده خويش ريش<q>هشيوار ديوانه خواند ورا<q>همان خويش بيگانه داند ورا<q>ازوئى بهر دو سراى ارجمند<q>گسسته خرد پاى دارد ببند<q>خرد چشم جانست چون بنگرى<q>تو بىچشم شادان جهان نسپرى<q>نخست آفرينش خرد را شناس<q>نگهبان جانست و آن سه پاس<q>سه پاس تو چشم است و گوش و زبان<q>كزين سه رسد نيك و بد بىگمان<q>خرد را و جان را كه يارد ستود<q>و گر من ستايم كه يارد شنود<q>حكيما چو كس نيست گفتن چه سود<q>ازين پس بگو كافرينش چه بود<q>توئى كرده كردگار جهان<q>ببينى همى آشكار و نهان<q>بگفتار دانندگان راه جوى<q>بگيتى بپوى و به هر كس بگوى<q>ز هر دانشى چون سخن بشنوى<q>از آموختن يك زمان نغنوى<q>چو ديدار يابى بشاخ سخن<q>بدانى كه دانش نيايد ببن<q>گفتار اندر آفرينش گيهان<q>از آغاز بايد كه دانى درست<q>سرمايه گوهران از نخست<q>كه يزدان ز ناچيز چيز آف'"
      ]
     },
     "execution_count": 32,
     "metadata": {},
     "output_type": "execute_result"
    }
   ],
   "source": [
    "processed_poem[1000:2000]"
   ]
  },
  {
   "cell_type": "markdown",
   "metadata": {},
   "source": [
    "# Save"
   ]
  },
  {
   "cell_type": "code",
   "execution_count": 33,
   "metadata": {},
   "outputs": [
    {
     "data": {
      "text/plain": [
       "2907247"
      ]
     },
     "execution_count": 33,
     "metadata": {},
     "output_type": "execute_result"
    }
   ],
   "source": [
    "len(processed_poem)"
   ]
  },
  {
   "cell_type": "code",
   "execution_count": 34,
   "metadata": {},
   "outputs": [],
   "source": [
    "with open(\"E:\\LLM001\\ShahnameBS001\\Dataset\\Processed\\poems001.txt\", 'w', encoding='utf-8') as file:\n",
    "    file.write(processed_poem)"
   ]
  }
 ],
 "metadata": {
  "kernelspec": {
   "display_name": "nlp",
   "language": "python",
   "name": "python3"
  },
  "language_info": {
   "codemirror_mode": {
    "name": "ipython",
    "version": 3
   },
   "file_extension": ".py",
   "mimetype": "text/x-python",
   "name": "python",
   "nbconvert_exporter": "python",
   "pygments_lexer": "ipython3",
   "version": "3.11.0"
  }
 },
 "nbformat": 4,
 "nbformat_minor": 2
}
